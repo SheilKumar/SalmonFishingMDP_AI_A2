{
 "cells": [
  {
   "cell_type": "markdown",
   "metadata": {},
   "source": [
    "## Salmon Fishing MDP\n",
    "\n",
    "Creating the following MDP\n",
    "\n",
    "| $s$    | $a$      | $s^{\\prime}$ | $T(s,a,s^{\\prime})$ | $R(s,a,s^{\\prime})$ |\n",
    "|--------|----------|--------------|---------------------|---------------------|\n",
    "| Empty  | Re-breed | Empty        | 0.05                | -4                  |\n",
    "| Empty  | Re-breed | Low          | 0.85                | -4                  |\n",
    "| Empty  | Re-breed | Medium       | 0.10                | -4                  |\n",
    "| Empty  | Not Fish | Empty        | 1                   | 0                   |\n",
    "| Empty  | Fish     | Empty        | 1                   | 0                   |\n",
    "| Low    | Re-Breed | Medium       | 0.80                | -2.50               |\n",
    "| Low    | Re-Breed | High         | 0.20                | -2.50               |\n",
    "| Low    | Not Fish | Empty        | 0.05                | 0                   |\n",
    "| Low    | Not Fish | Low          | 0.70                | 0                   |\n",
    "| Low    | Not Fish | Medium       | 0.25                | 0                   |\n",
    "| Low    | Fish     | Empty        | 0.65                | 0.60                |\n",
    "| Low    | Fish     | Low          | 0.35                | 0.60                |\n",
    "| Medium | Re-Breed | High         | 1                   | -1                  |\n",
    "| Medium | Not Fish | Low          | 0.05                | 0                   |\n",
    "| Medium | Not Fish | Medium       | 0.90                | 0                   |\n",
    "| Medium | Not Fish | High         | 0.05                | 0                   |\n",
    "| Medium | Fish     | Low          | 0.35                | 1.70                |\n",
    "| Medium | Fish     | Medium       | 0.60                | 1.70                |\n",
    "| Medium | Fish     | High         | 0.05                | 1.70                |\n",
    "| High   | Re-Breed | High         | 1                   | -0.5                |\n",
    "| High   | Not Fish | High         | 0.80                | 0                   |\n",
    "| High   | Not Fish | Medium       | 0.20                | 0                   |\n",
    "| High   | Fish     | Medium       | 0.65                | 2.5                 |\n",
    "| High   | Fish     | High         | 0.35                | 2.5                 |\n",
    "\n"
   ]
  },
  {
   "cell_type": "code",
   "execution_count": 7,
   "metadata": {},
   "outputs": [],
   "source": [
    "# creating a dictionary of the transitions probabilities and\n",
    "# rewards for each action state pair\n",
    "from Actions import ReBreed, Fish, NotFish\n",
    "reBreedAction = ReBreed()\n",
    "notFishAction = NotFish()\n",
    "fishAction    = Fish()\n",
    "availableActions = [reBreedAction, notFishAction, fishAction]\n",
    "availableStates = [\"empty\", \"low\", \"medium\", \"high\"]"
   ]
  },
  {
   "cell_type": "markdown",
   "metadata": {},
   "source": [
    "### Value Iteration and policy selection\n",
    "\n",
    "Below we perform value iteration and optimum policy selection for the simple states Empty, Low, Medium, and High, with the defined actions. "
   ]
  },
  {
   "cell_type": "code",
   "execution_count": 22,
   "metadata": {},
   "outputs": [
    {
     "name": "stdout",
     "output_type": "stream",
     "text": [
      "[0.1  0.2  0.3  0.4  0.5  0.6  0.7  0.8  0.9  0.95 0.99]\n"
     ]
    }
   ],
   "source": [
    "import numpy as np\n",
    "num_iteration = 50\n",
    "gammaToVMap = {}\n",
    "gamma = np.arange(0.1,1,0.1)\n",
    "gamma = np.append(gamma, [0.95,0.99])\n",
    "print(gamma)\n",
    "for g in gamma:\n",
    "    V = {\n",
    "    \"empty\" : (0,0), #expected response of a reward and action\n",
    "    \"low\"   : (0,0),\n",
    "    \"medium\": (0,0),\n",
    "    \"high\"  : (0,0)\n",
    "    }\n",
    "    for i in range(num_iteration):\n",
    "        for currState in availableStates:\n",
    "            Vs_i = 0\n",
    "            maxAction = None\n",
    "            for currAction in availableActions:\n",
    "                sPrimeMap = currAction.getTransitionAndRewardProbabilities(currState)\n",
    "                currV = 0\n",
    "                for nextState, probabilities in sPrimeMap.items():\n",
    "                    t, r = probabilities\n",
    "                    currV += t*(r + g*V[nextState][0])\n",
    "                if currV>Vs_i:\n",
    "                    Vs_i = currV\n",
    "                    maxAction = currAction\n",
    "            V[currState] = (Vs_i, maxAction)\n",
    "    gammaToVMap[g] = V\n",
    "\n"
   ]
  },
  {
   "cell_type": "code",
   "execution_count": 27,
   "metadata": {},
   "outputs": [
    {
     "data": {
      "text/plain": [
       "{'empty': (0, None),\n",
       " 'low': (0.8131448865916906, <Actions.NotFish at 0x1064f0610>),\n",
       " 'medium': (3.1441602281546004, <Actions.Fish at 0x1064f3df0>),\n",
       " 'high': (4.716737327823155, <Actions.Fish at 0x1064f3df0>)}"
      ]
     },
     "execution_count": 27,
     "metadata": {},
     "output_type": "execute_result"
    }
   ],
   "source": [
    "gammaToVMap[gamma[5]]"
   ]
  },
  {
   "cell_type": "markdown",
   "metadata": {},
   "source": [
    "### Extending the problem\n",
    "\n",
    "Now lets expand the problem in the following states\n",
    "\n",
    "* **States** \n",
    "  * Let $\\mathbf{S}$ be the set \\{0, 1000, 2000, ..., 50000\\} and $s \\in \\mathbf{s}$\n",
    "* **Actions**\n",
    "  * Let the action of rebreeding increase the population of fish by the population growth function $\\frac{KP_0e^{rt}}{K + P_0(e^{rt}-1)}$, where K is the carrying cappacity (50,000), r is the growth rate, and t is the time\n",
    "  * The action of fishing causes the population to decrease by half\n",
    "  * The action of not fishing causes the population to change to $\\mathcal{N}(P_0,500)$"
   ]
  },
  {
   "cell_type": "code",
   "execution_count": null,
   "metadata": {},
   "outputs": [],
   "source": []
  }
 ],
 "metadata": {
  "interpreter": {
   "hash": "c577ab10b7afcf3e6cf22e9d87f20f29ca1a101aaad73bcb5f0ac3123c0558ca"
  },
  "kernelspec": {
   "display_name": "Python 3.10.2 ('optimisation_algorithms')",
   "language": "python",
   "name": "python3"
  },
  "language_info": {
   "codemirror_mode": {
    "name": "ipython",
    "version": 3
   },
   "file_extension": ".py",
   "mimetype": "text/x-python",
   "name": "python",
   "nbconvert_exporter": "python",
   "pygments_lexer": "ipython3",
   "version": "3.10.2"
  },
  "orig_nbformat": 4
 },
 "nbformat": 4,
 "nbformat_minor": 2
}
